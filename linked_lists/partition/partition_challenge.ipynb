{
 "cells": [
  {
   "cell_type": "markdown",
   "metadata": {},
   "source": [
    "<small><i>This notebook was prepared by [Donne Martin](http://donnemartin.com). Source and license info is on [GitHub](https://github.com/donnemartin/interactive-coding-challenges).</i></small>"
   ]
  },
  {
   "cell_type": "markdown",
   "metadata": {},
   "source": [
    "# Challenge Notebook"
   ]
  },
  {
   "cell_type": "markdown",
   "metadata": {},
   "source": [
    "## Problem: Partition a linked list around a value x, such that all nodes less than x come before all nodes greater than or equal to x.\n",
    "\n",
    "* [Constraints](#Constraints)\n",
    "* [Test Cases](#Test-Cases)\n",
    "* [Algorithm](#Algorithm)\n",
    "* [Code](#Code)\n",
    "* [Unit Test](#Unit-Test)\n",
    "* [Solution Notebook](#Solution-Notebook)"
   ]
  },
  {
   "cell_type": "markdown",
   "metadata": {},
   "source": [
    "## Constraints\n",
    "\n",
    "* Can we create additional data structures?\n",
    "    * Yes\n",
    "* Do you expect the function to return a new list?\n",
    "    * Yes\n",
    "* Can we assume the input x is valid?\n",
    "    * Yes\n",
    "* Can we assume we already have a linked list class that can be used for this problem?\n",
    "    * Yes"
   ]
  },
  {
   "cell_type": "markdown",
   "metadata": {},
   "source": [
    "## Test Cases\n",
    "\n",
    "* Empty list -> []\n",
    "* One element list -> [element]\n",
    "* Left linked list is empty\n",
    "* Right linked list is empty\n",
    "* General case\n",
    "    * Partition = 10\n",
    "    * Input:  4, 3, 7, 8, 10, 1, 10, 12\n",
    "    * Output: 4, 3, 7, 8, 1, 10, 10, 12"
   ]
  },
  {
   "cell_type": "markdown",
   "metadata": {},
   "source": [
    "## Algorithm\n",
    "\n",
    "Refer to the [Solution Notebook](http://nbviewer.ipython.org/github/donnemartin/interactive-coding-challenges/blob/master/linked_lists/partition/partition_solution.ipynb).  If you are stuck and need a hint, the solution notebook's algorithm discussion might be a good place to start."
   ]
  },
  {
   "cell_type": "markdown",
   "metadata": {},
   "source": [
    "## Code"
   ]
  },
  {
   "cell_type": "code",
   "execution_count": 21,
   "metadata": {
    "collapsed": true
   },
   "outputs": [],
   "source": [
    "# %load ../linked_list/linked_list.py\n",
    "class Node(object):\n",
    "    \n",
    "    def __init__(self, data, next_node=None):\n",
    "        self.next = next_node\n",
    "        self.data = data\n",
    "        \n",
    "    def __str__(self):\n",
    "        return self.data\n",
    "\n",
    "class LinkedList(object):\n",
    "    \n",
    "    def __init__(self, head=None):\n",
    "        self.head = head\n",
    "\n",
    "    def __len__(self):\n",
    "        curr = self.head\n",
    "        counter = 0\n",
    "        while curr is not None:\n",
    "            counter += 1\n",
    "            curr = curr.next\n",
    "        return counter\n",
    "    \n",
    "    def insert_to_front(self, data):\n",
    "        if data is None:\n",
    "            return\n",
    "        node = Node(data)\n",
    "        if self.head is None:\n",
    "            self.head = node\n",
    "        else:\n",
    "            node.next = self.head\n",
    "            self.head = node\n",
    "        return node\n",
    "            \n",
    "    def append(self, data, next_node=None):\n",
    "        if data is None:\n",
    "            return\n",
    "        node = Node(data, next_node)\n",
    "        if self.head is None:\n",
    "            self.head = node\n",
    "        else:\n",
    "            curr_node = self.head\n",
    "            while curr_node.next is not None:\n",
    "                curr_node = curr_node.next\n",
    "            curr_node.next = node\n",
    "        return node\n",
    "            \n",
    "    def find(self, data):\n",
    "        if data is None:\n",
    "            return\n",
    "        if self.head is None:\n",
    "            return\n",
    "        curr_node = self.head\n",
    "        while curr_node is not None:\n",
    "            if curr_node.data == data:\n",
    "                return curr_node\n",
    "            else:\n",
    "                curr_node = curr_node.next\n",
    "        return\n",
    "                \n",
    "    def delete(self, data):\n",
    "        if data is None:\n",
    "            return\n",
    "        if self.head is None:\n",
    "            return\n",
    "        prev_node = self.head\n",
    "        curr_node = prev_node.next\n",
    "        while curr_node is not None:\n",
    "            if curr_node.data == data:\n",
    "                prev_node.next = curr_node.next\n",
    "                return\n",
    "            else:\n",
    "                prev_node = curr_node\n",
    "                curr_node = curr_node.next\n",
    "\n",
    "    def print_list(self):\n",
    "        curr_node = self.head\n",
    "        while curr_node is not None:\n",
    "            print(curr_node.data)\n",
    "            curr_node = curr_node.next\n",
    "\n",
    "    def get_all_data(self):\n",
    "        data = []\n",
    "        curr_node = self.head\n",
    "        while curr_node is not None:\n",
    "            data.append(curr_node.data)\n",
    "            curr_node = curr_node.next\n",
    "        return data"
   ]
  },
  {
   "cell_type": "code",
   "execution_count": 22,
   "metadata": {
    "collapsed": false
   },
   "outputs": [],
   "source": [
    "class MyLinkedList(LinkedList):\n",
    "    \n",
    "    def __iter__(self):\n",
    "        current = self.head\n",
    "        while current is not None:\n",
    "            yield current\n",
    "            current = current.next\n",
    "        raise StopIteration\n",
    "    \n",
    "    def partition(self, data):\n",
    "        lower = []\n",
    "        upper = []\n",
    "        for n in self:\n",
    "            if n.data < data:\n",
    "                lower.append(n.data)\n",
    "            else:\n",
    "                upper.append(n.data)\n",
    "        new = self.__class__()\n",
    "        for d in lower + upper:\n",
    "            new.append(d)\n",
    "        return new"
   ]
  },
  {
   "cell_type": "markdown",
   "metadata": {},
   "source": [
    "## Unit Test"
   ]
  },
  {
   "cell_type": "markdown",
   "metadata": {},
   "source": [
    "\n",
    "\n",
    "**The following unit test is expected to fail until you solve the challenge.**"
   ]
  },
  {
   "cell_type": "code",
   "execution_count": 23,
   "metadata": {
    "collapsed": false
   },
   "outputs": [
    {
     "name": "stdout",
     "output_type": "stream",
     "text": [
      "Test: Empty list\n",
      "Test: One element list, left list empty\n",
      "Test: Right list is empty\n",
      "Test: General case\n",
      "Success: test_partition\n"
     ]
    }
   ],
   "source": [
    "# %load test_partition.py\n",
    "from nose.tools import assert_equal\n",
    "\n",
    "\n",
    "class TestPartition(object):\n",
    "    \n",
    "    def test_partition(self):\n",
    "        print('Test: Empty list')\n",
    "        linked_list = MyLinkedList(None)\n",
    "        linked_list.partition(10)\n",
    "        assert_equal(linked_list.get_all_data(), [])\n",
    "\n",
    "        print('Test: One element list, left list empty')\n",
    "        linked_list = MyLinkedList(Node(5))\n",
    "        linked_list.partition(0)\n",
    "        assert_equal(linked_list.get_all_data(), [5])\n",
    "\n",
    "        print('Test: Right list is empty')\n",
    "        linked_list = MyLinkedList(Node(5))\n",
    "        linked_list.partition(10)\n",
    "        assert_equal(linked_list.get_all_data(), [5])\n",
    "\n",
    "        print('Test: General case')\n",
    "        # Partition = 10\n",
    "        # Input: 4, 3, 7, 8, 10, 1, 10, 12\n",
    "        # Output: 4, 3, 7, 8, 1, 10, 10, 12\n",
    "        linked_list = MyLinkedList(Node(12))\n",
    "        linked_list.insert_to_front(10)\n",
    "        linked_list.insert_to_front(1)\n",
    "        linked_list.insert_to_front(10)\n",
    "        linked_list.insert_to_front(8)\n",
    "        linked_list.insert_to_front(7)\n",
    "        linked_list.insert_to_front(3)\n",
    "        linked_list.insert_to_front(4)\n",
    "        partitioned_list = linked_list.partition(10)\n",
    "        assert_equal(partitioned_list.get_all_data(), \n",
    "                     [4, 3, 7, 8, 1, 10, 10, 12])\n",
    "        \n",
    "        print('Success: test_partition')\n",
    "\n",
    "def main():\n",
    "    test = TestPartition()\n",
    "    test.test_partition()\n",
    "    \n",
    "if __name__ == '__main__':\n",
    "    main()"
   ]
  },
  {
   "cell_type": "markdown",
   "metadata": {},
   "source": [
    "## Solution Notebook\n",
    "\n",
    "Review the [Solution Notebook](http://nbviewer.ipython.org/github/donnemartin/interactive-coding-challenges/blob/master/linked_lists/partition/partition_solution.ipynb) for a discussion on algorithms and code solutions."
   ]
  }
 ],
 "metadata": {
  "kernelspec": {
   "display_name": "Python 3",
   "language": "python",
   "name": "python3"
  },
  "language_info": {
   "codemirror_mode": {
    "name": "ipython",
    "version": 3
   },
   "file_extension": ".py",
   "mimetype": "text/x-python",
   "name": "python",
   "nbconvert_exporter": "python",
   "pygments_lexer": "ipython3",
   "version": "3.4.3"
  }
 },
 "nbformat": 4,
 "nbformat_minor": 0
}
